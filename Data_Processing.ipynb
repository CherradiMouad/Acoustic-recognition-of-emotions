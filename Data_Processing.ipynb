{
 "cells": [
  {
   "cell_type": "code",
   "execution_count": 2,
   "id": "e7e1114d",
   "metadata": {},
   "outputs": [
    {
     "name": "stdout",
     "output_type": "stream",
     "text": [
      "Collecting librosa\n",
      "  Downloading librosa-0.9.2-py3-none-any.whl (214 kB)\n",
      "Requirement already satisfied: packaging>=20.0 in c:\\python\\anaconda\\lib\\site-packages (from librosa) (21.0)\n",
      "Collecting soundfile>=0.10.2\n",
      "  Downloading SoundFile-0.10.3.post1-py2.py3.cp26.cp27.cp32.cp33.cp34.cp35.cp36.pp27.pp32.pp33-none-win_amd64.whl (689 kB)\n",
      "Requirement already satisfied: scikit-learn>=0.19.1 in c:\\python\\anaconda\\lib\\site-packages (from librosa) (0.24.2)\n",
      "Requirement already satisfied: joblib>=0.14 in c:\\python\\anaconda\\lib\\site-packages (from librosa) (1.1.0)\n",
      "Requirement already satisfied: scipy>=1.2.0 in c:\\python\\anaconda\\lib\\site-packages (from librosa) (1.7.1)\n",
      "Collecting resampy>=0.2.2\n",
      "  Downloading resampy-0.3.1-py3-none-any.whl (3.1 MB)\n",
      "Collecting audioread>=2.1.9\n",
      "  Downloading audioread-2.1.9.tar.gz (377 kB)\n",
      "Requirement already satisfied: decorator>=4.0.10 in c:\\python\\anaconda\\lib\\site-packages (from librosa) (5.1.0)\n",
      "Requirement already satisfied: numpy>=1.17.0 in c:\\python\\anaconda\\lib\\site-packages (from librosa) (1.20.3)\n",
      "Requirement already satisfied: numba>=0.45.1 in c:\\python\\anaconda\\lib\\site-packages (from librosa) (0.54.1)\n",
      "Collecting pooch>=1.0\n",
      "  Downloading pooch-1.6.0-py3-none-any.whl (56 kB)\n",
      "Requirement already satisfied: setuptools in c:\\python\\anaconda\\lib\\site-packages (from numba>=0.45.1->librosa) (58.0.4)\n",
      "Requirement already satisfied: llvmlite<0.38,>=0.37.0rc1 in c:\\python\\anaconda\\lib\\site-packages (from numba>=0.45.1->librosa) (0.37.0)\n",
      "Requirement already satisfied: pyparsing>=2.0.2 in c:\\python\\anaconda\\lib\\site-packages (from packaging>=20.0->librosa) (3.0.4)\n",
      "Requirement already satisfied: appdirs>=1.3.0 in c:\\python\\anaconda\\lib\\site-packages (from pooch>=1.0->librosa) (1.4.4)\n",
      "Requirement already satisfied: requests>=2.19.0 in c:\\python\\anaconda\\lib\\site-packages (from pooch>=1.0->librosa) (2.26.0)\n",
      "Requirement already satisfied: certifi>=2017.4.17 in c:\\python\\anaconda\\lib\\site-packages (from requests>=2.19.0->pooch>=1.0->librosa) (2021.10.8)\n",
      "Requirement already satisfied: charset-normalizer~=2.0.0 in c:\\python\\anaconda\\lib\\site-packages (from requests>=2.19.0->pooch>=1.0->librosa) (2.0.4)\n",
      "Requirement already satisfied: idna<4,>=2.5 in c:\\python\\anaconda\\lib\\site-packages (from requests>=2.19.0->pooch>=1.0->librosa) (3.2)\n",
      "Requirement already satisfied: urllib3<1.27,>=1.21.1 in c:\\python\\anaconda\\lib\\site-packages (from requests>=2.19.0->pooch>=1.0->librosa) (1.26.7)\n",
      "Requirement already satisfied: threadpoolctl>=2.0.0 in c:\\python\\anaconda\\lib\\site-packages (from scikit-learn>=0.19.1->librosa) (2.2.0)\n",
      "Requirement already satisfied: cffi>=1.0 in c:\\python\\anaconda\\lib\\site-packages (from soundfile>=0.10.2->librosa) (1.14.6)\n",
      "Requirement already satisfied: pycparser in c:\\python\\anaconda\\lib\\site-packages (from cffi>=1.0->soundfile>=0.10.2->librosa) (2.20)\n",
      "Building wheels for collected packages: audioread\n",
      "  Building wheel for audioread (setup.py): started\n",
      "  Building wheel for audioread (setup.py): finished with status 'done'\n",
      "  Created wheel for audioread: filename=audioread-2.1.9-py3-none-any.whl size=23154 sha256=5ec18bec582bb564fe188864baf08e66360062203b0983fef5287cdf308f57e0\n",
      "  Stored in directory: c:\\users\\asus\\appdata\\local\\pip\\cache\\wheels\\a2\\a3\\bd\\ec1568ce7515115a11ab686d509ad302124c782af065de47ee\n",
      "Successfully built audioread\n",
      "Installing collected packages: soundfile, resampy, pooch, audioread, librosa\n",
      "Successfully installed audioread-2.1.9 librosa-0.9.2 pooch-1.6.0 resampy-0.3.1 soundfile-0.10.3.post1\n",
      "Note: you may need to restart the kernel to use updated packages.\n"
     ]
    }
   ],
   "source": [
    "pip install librosa"
   ]
  },
  {
   "cell_type": "code",
   "execution_count": 3,
   "id": "bd7befe0",
   "metadata": {},
   "outputs": [],
   "source": [
    "import librosa \n",
    "import librosa.display\n",
    "import numpy as np\n",
    "import pandas as pd\n",
    "import matplotlib.pyplot as plt\n",
    "from mpl_toolkits import mplot3d\n",
    "\n",
    "%matplotlib inline \n",
    "import os\n",
    "import warnings\n",
    "warnings.filterwarnings('ignore')"
   ]
  },
  {
   "cell_type": "markdown",
   "id": "b6448129",
   "metadata": {},
   "source": [
    "# Load Data and convert it to array"
   ]
  },
  {
   "cell_type": "code",
   "execution_count": 7,
   "id": "86133da3",
   "metadata": {},
   "outputs": [],
   "source": [
    "#***************angry****************#\n",
    "os.chdir('\\\\')\n",
    "# you should replace the path with the absolute path that can make you arrive at \"data\" file\n",
    "# for example \"C:\\\\user\\\\admin\\\\Desktop\\\\data\\\\YAF_angry\" \n",
    "os.chdir('absolute_path\\\\data\\\\YAF_angry')\n",
    "file_name_angry=os.listdir()\n",
    "o=len(file_name_angry)\n",
    "data_angry = [0]*o\n",
    "sr_angry = [0]*o\n",
    "for i in range(o):\n",
    "    data_angry[i],sr_angry[i]=librosa.load(file_name_angry[i])"
   ]
  },
  {
   "cell_type": "code",
   "execution_count": 8,
   "id": "af4953f8",
   "metadata": {},
   "outputs": [],
   "source": [
    "#***************disgust****************#\n",
    "os.chdir('\\\\')\n",
    "os.chdir('absolute_path\\\\data\\\\YAF_disgust')\n",
    "file_name_disgust=os.listdir()\n",
    "o=len(file_name_disgust)\n",
    "data_disgust = [0]*o\n",
    "sr_disgust = [0]*o\n",
    "for i in range(o):\n",
    "    data_disgust[i],sr_disgust[i]=librosa.load(file_name_disgust[i])"
   ]
  },
  {
   "cell_type": "code",
   "execution_count": 9,
   "id": "a8e7ab22",
   "metadata": {},
   "outputs": [],
   "source": [
    "#***************fear****************#\n",
    "os.chdir('\\\\')\n",
    "os.chdir('absolute_path\\\\data\\\\YAF_fear')\n",
    "file_name_fear=os.listdir()\n",
    "o=len(file_name_fear)\n",
    "data_fear = [0]*o\n",
    "sr_fear = [0]*o\n",
    "for i in range(o):\n",
    "    data_fear[i],sr_fear[i]=librosa.load(file_name_fear[i])"
   ]
  },
  {
   "cell_type": "code",
   "execution_count": 10,
   "id": "9e73e67c",
   "metadata": {},
   "outputs": [],
   "source": [
    "#***************happy****************#\n",
    "os.chdir('\\\\')\n",
    "os.chdir('absolute_path\\\\data\\\\YAF_happy')\n",
    "file_name_happy=os.listdir()\n",
    "o=len(file_name_happy)\n",
    "data_happy = [0]*o\n",
    "sr_happy = [0]*o\n",
    "for i in range(o):\n",
    "    data_happy[i],sr_happy[i]=librosa.load(file_name_happy[i])"
   ]
  },
  {
   "cell_type": "code",
   "execution_count": 11,
   "id": "b7fa3771",
   "metadata": {},
   "outputs": [],
   "source": [
    "#***************pleasant surprised****************#\n",
    "os.chdir('\\\\')\n",
    "os.chdir('absolute_path\\\\data\\\\YAF_pleasant_surprised')\n",
    "file_name_surprised=os.listdir()\n",
    "o=len(file_name_surprised)\n",
    "data_surprised = [0]*o\n",
    "sr_surprised = [0]*o\n",
    "for i in range(o):\n",
    "    data_surprised[i],sr_surprised[i]=librosa.load(file_name_surprised[i])"
   ]
  },
  {
   "cell_type": "code",
   "execution_count": 12,
   "id": "5c03f11c",
   "metadata": {},
   "outputs": [],
   "source": [
    "#***************sad****************#\n",
    "os.chdir('\\\\')\n",
    "os.chdir('absolute_path\\\\data\\\\YAF_sad')\n",
    "file_name_sad=os.listdir()\n",
    "o=len(file_name_sad)\n",
    "data_sad = [0]*o\n",
    "sr_sad = [0]*o\n",
    "for i in range(o):\n",
    "    data_sad[i],sr_sad[i]=librosa.load(file_name_sad[i])"
   ]
  },
  {
   "cell_type": "markdown",
   "id": "bc660cb3",
   "metadata": {},
   "source": [
    "# Extracting Features "
   ]
  },
  {
   "cell_type": "markdown",
   "id": "5374d531",
   "metadata": {},
   "source": [
    "## 1-Beat & Tempo"
   ]
  },
  {
   "cell_type": "code",
   "execution_count": 14,
   "id": "29b1109f",
   "metadata": {},
   "outputs": [],
   "source": [
    "def BeatTempo(x,y):\n",
    "    s1, s2=librosa.beat.beat_track(y=x, sr=y)\n",
    "    s1=np.around(s1*100,6)\n",
    "    s2=np.around(s2.mean()*1000,6)\n",
    "    return (s1,s2)"
   ]
  },
  {
   "cell_type": "code",
   "execution_count": 15,
   "id": "c158d7d6",
   "metadata": {},
   "outputs": [],
   "source": [
    "tempo_angry=[0]*200\n",
    "beat_angry=[0]*200\n",
    "for i in range (200):\n",
    "    tempo_angry[i], beat_angry[i]=BeatTempo(data_angry[i],sr_angry[i])"
   ]
  },
  {
   "cell_type": "code",
   "execution_count": 16,
   "id": "d3c5399b",
   "metadata": {},
   "outputs": [],
   "source": [
    "tempo_happy=[0]*200\n",
    "beat_happy=[0]*200\n",
    "for i in range (200):\n",
    "    tempo_happy[i], beat_happy[i]=BeatTempo(data_happy[i],sr_happy[i])"
   ]
  },
  {
   "cell_type": "code",
   "execution_count": 17,
   "id": "68a995d8",
   "metadata": {},
   "outputs": [],
   "source": [
    "tempo_sad=[0]*200\n",
    "beat_sad=[0]*200\n",
    "for i in range (200):\n",
    "    tempo_sad[i], beat_sad[i]=BeatTempo(data_sad[i],sr_sad[i])"
   ]
  },
  {
   "cell_type": "code",
   "execution_count": 18,
   "id": "9ad02bcc",
   "metadata": {},
   "outputs": [],
   "source": [
    "tempo_fear=[0]*200\n",
    "beat_fear=[0]*200\n",
    "for i in range (200):\n",
    "    tempo_fear[i], beat_fear[i]=BeatTempo(data_fear[i],sr_fear[i])"
   ]
  },
  {
   "cell_type": "code",
   "execution_count": 19,
   "id": "76aaa226",
   "metadata": {},
   "outputs": [],
   "source": [
    "tempo_disgust=[0]*200\n",
    "beat_disgust=[0]*200\n",
    "for i in range (200):\n",
    "    tempo_disgust[i], beat_disgust[i]=BeatTempo(data_disgust[i],sr_disgust[i])"
   ]
  },
  {
   "cell_type": "code",
   "execution_count": 20,
   "id": "0552ebf6",
   "metadata": {},
   "outputs": [],
   "source": [
    "tempo_surprised=[0]*200\n",
    "beat_surprised=[0]*200\n",
    "for i in range (200):\n",
    "    tempo_surprised[i], beat_surprised[i]=BeatTempo(data_surprised[i],sr_surprised[i])"
   ]
  },
  {
   "cell_type": "code",
   "execution_count": null,
   "id": "830b1365",
   "metadata": {},
   "outputs": [],
   "source": [
    "  # Calcul du ZCR\n",
    "\n",
    "zcr = librosa.zero_crossings(audio)\n",
    "coeff = (sum(zcr))\n",
    "\n",
    "# Calcul de la moyenne du Spectral centroid\n",
    "\n",
    "spectral_centroids = librosa.feature.spectral_centroid()\n",
    "coeff = np.mean(spectral_centroids)\n",
    "\n",
    "# Calcul du spectral rolloff point\n",
    "\n",
    "rolloff = librosa.feature.spectral_rolloff(audio)\n",
    "coeff = (np.mean(rolloff))\n",
    "\n",
    "# Calcul des moyennes des MFCC\n",
    "\n",
    "mfcc = librosa.feature.mfcc(audio)\n",
    "mfcc=mfcc.reshape(-1)\n",
    "coeff1 = (np.mean(mfcc))\n",
    "\n",
    "# Calcul des val positif et les négatif des MFCC\n",
    "mfcc = librosa.feature.mfcc(audio)\n",
    "mfcc=mfcc.reshape(-1)\n",
    "sp=sn=0\n",
    "for i in range(len(mfcc)):\n",
    "        if(mfcc[i]>=0):\n",
    "            sp = sp + mfcc[i]\n",
    "        else :\n",
    "            sn = sn + mfcc[i]\n",
    "coeff2 = sp\n",
    "coeff3 = sn\n",
    "\n",
    "# Root-mean-square (RMS)\n",
    "\n",
    "rms = librosa.feature.rms(audio)\n",
    "rms = rms.reshape(-1)\n",
    "coeff = np.mean(rms)\n"
   ]
  },
  {
   "cell_type": "markdown",
   "id": "4a761d56",
   "metadata": {},
   "source": [
    "## 2-MFCC "
   ]
  },
  {
   "cell_type": "code",
   "execution_count": 21,
   "id": "5ab7e803",
   "metadata": {},
   "outputs": [],
   "source": [
    "def mfcc(x,y):\n",
    "    sp=sn=spair=simpair=0\n",
    "    mfcc=librosa.feature.mfcc(y=x, sr=y,n_mfcc=40)\n",
    "    mfcc=mfcc.reshape(-1)\n",
    "    x = np.mean(mfcc)\n",
    "    for i in range(len(mfcc)):\n",
    "        if(i%2 == 0):\n",
    "            spair = spair + mfcc[i]\n",
    "        else :\n",
    "            simpair = simpair + mfcc[i]\n",
    "    for i in range(len(mfcc)):\n",
    "        if(mfcc[i]>=0):\n",
    "            sp = sp + mfcc[i]\n",
    "        else :\n",
    "            sn = sn + mfcc[i]\n",
    "    return (np.around(sp,6),np.around(sn*(-1),6),np.around(x,6),np.around(abs(spair),6),np.around(abs(simpair),6))"
   ]
  },
  {
   "cell_type": "code",
   "execution_count": 22,
   "id": "0ea7db5a",
   "metadata": {},
   "outputs": [],
   "source": [
    "mfcc1_angry=[0]*200\n",
    "mfcc2_angry=[0]*200\n",
    "mean_angry=[0]*200\n",
    "pair_angry=[0]*200\n",
    "impair_angry=[0]*200\n",
    "for i in range(200):\n",
    "    mfcc1_angry[i],mfcc2_angry[i],mean_angry[i],pair_angry[i],impair_angry[i]= mfcc(data_angry[i],sr_angry[i])"
   ]
  },
  {
   "cell_type": "code",
   "execution_count": 23,
   "id": "6eaf48f1",
   "metadata": {},
   "outputs": [],
   "source": [
    "mfcc1_happy=[0]*200\n",
    "mfcc2_happy=[0]*200\n",
    "mean_happy=[0]*200\n",
    "pair_happy=[0]*200\n",
    "impair_happy=[0]*200\n",
    "for i in range(200):\n",
    "    mfcc1_happy[i],mfcc2_happy[i],mean_happy[i],pair_happy[i],impair_happy[i] = mfcc(data_happy[i],sr_happy[i])"
   ]
  },
  {
   "cell_type": "code",
   "execution_count": 24,
   "id": "1fe04edc",
   "metadata": {},
   "outputs": [],
   "source": [
    "mfcc1_sad=[0]*200\n",
    "mfcc2_sad=[0]*200\n",
    "mean_sad=[0]*200\n",
    "pair_sad=[0]*200\n",
    "impair_sad=[0]*200\n",
    "for i in range(200):\n",
    "    mfcc1_sad[i],mfcc2_sad[i],mean_sad[i],pair_sad[i],impair_sad[i] = mfcc(data_sad[i],sr_sad[i])"
   ]
  },
  {
   "cell_type": "code",
   "execution_count": 25,
   "id": "1c0c83b8",
   "metadata": {},
   "outputs": [],
   "source": [
    "mfcc1_fear=[0]*200\n",
    "mfcc2_fear=[0]*200\n",
    "mean_fear=[0]*200\n",
    "pair_fear=[0]*200\n",
    "impair_fear=[0]*200\n",
    "for i in range(200):\n",
    "    mfcc1_fear[i],mfcc2_fear[i],mean_fear[i],pair_fear[i],impair_fear[i]  = mfcc(data_fear[i],sr_fear[i])"
   ]
  },
  {
   "cell_type": "code",
   "execution_count": 26,
   "id": "9e734d46",
   "metadata": {},
   "outputs": [],
   "source": [
    "mfcc1_disgust=[0]*200\n",
    "mfcc2_disgust=[0]*200\n",
    "mean_disgust=[0]*200\n",
    "pair_disgust=[0]*200\n",
    "impair_disgust=[0]*200\n",
    "for i in range(200):\n",
    "    mfcc1_disgust[i],mfcc2_disgust[i],mean_disgust[i],pair_disgust[i],impair_disgust[i] = mfcc(data_disgust[i],sr_disgust[i])"
   ]
  },
  {
   "cell_type": "code",
   "execution_count": 27,
   "id": "30223204",
   "metadata": {},
   "outputs": [],
   "source": [
    "mfcc1_surprised=[0]*200\n",
    "mfcc2_surprised=[0]*200\n",
    "mean_surprised=[0]*200\n",
    "pair_surprised=[0]*200\n",
    "impair_surprised=[0]*200\n",
    "for i in range(200):\n",
    "    mfcc1_surprised[i],mfcc2_surprised[i],mean_surprised[i],pair_surprised[i],impair_surprised[i] = mfcc(data_surprised[i],sr_surprised[i])"
   ]
  },
  {
   "cell_type": "markdown",
   "id": "5e15dc4a",
   "metadata": {},
   "source": [
    "## 3-Centroid "
   ]
  },
  {
   "cell_type": "code",
   "execution_count": 28,
   "id": "e7f5776b",
   "metadata": {},
   "outputs": [],
   "source": [
    "def centroid(x,y):\n",
    "    s=0\n",
    "    z = librosa.feature.spectral_centroid(y=x, sr=y)\n",
    "    z = z.reshape(-1)\n",
    "    return np.around(z.mean(),6)"
   ]
  },
  {
   "cell_type": "code",
   "execution_count": 29,
   "id": "bf6b9444",
   "metadata": {},
   "outputs": [],
   "source": [
    "centr_angry=[0]*200\n",
    "for i in range(200):\n",
    "    centr_angry[i] = centroid(data_angry[i],sr_angry[i])"
   ]
  },
  {
   "cell_type": "code",
   "execution_count": 30,
   "id": "b337e47f",
   "metadata": {},
   "outputs": [],
   "source": [
    "centr_happy=[0]*200\n",
    "for i in range(200):\n",
    "    centr_happy[i] = centroid(data_happy[i],sr_happy[i])"
   ]
  },
  {
   "cell_type": "code",
   "execution_count": 31,
   "id": "eb38f34d",
   "metadata": {},
   "outputs": [],
   "source": [
    "centr_sad=[0]*200\n",
    "for i in range(200):\n",
    "    centr_sad[i] = centroid(data_sad[i],sr_sad[i])"
   ]
  },
  {
   "cell_type": "code",
   "execution_count": 32,
   "id": "df55179d",
   "metadata": {},
   "outputs": [],
   "source": [
    "centr_fear=[0]*200\n",
    "for i in range(200):\n",
    "    centr_fear[i] = centroid(data_fear[i],sr_fear[i])"
   ]
  },
  {
   "cell_type": "code",
   "execution_count": 33,
   "id": "f259d502",
   "metadata": {},
   "outputs": [],
   "source": [
    "centr_disgust=[0]*200\n",
    "for i in range(200):\n",
    "    centr_disgust[i] = centroid(data_disgust[i],sr_disgust[i])"
   ]
  },
  {
   "cell_type": "code",
   "execution_count": 34,
   "id": "fc32a1af",
   "metadata": {},
   "outputs": [],
   "source": [
    "centr_surprised=[0]*200\n",
    "for i in range(200):\n",
    "    centr_surprised[i] = centroid(data_surprised[i],sr_surprised[i])"
   ]
  },
  {
   "cell_type": "markdown",
   "id": "52e41f6a",
   "metadata": {},
   "source": [
    "## 4-ZCR"
   ]
  },
  {
   "cell_type": "code",
   "execution_count": 35,
   "id": "ac4c4676",
   "metadata": {},
   "outputs": [],
   "source": [
    "def zcr(x):\n",
    "    zcr = librosa.zero_crossings(x)\n",
    "    s = sum(zcr)\n",
    "    return s"
   ]
  },
  {
   "cell_type": "code",
   "execution_count": 36,
   "id": "607fe886",
   "metadata": {},
   "outputs": [],
   "source": [
    "zcr_angry=[0]*200\n",
    "for i in range(200):\n",
    "    zcr_angry[i] = zcr(data_angry[i])"
   ]
  },
  {
   "cell_type": "code",
   "execution_count": 37,
   "id": "26b287e1",
   "metadata": {},
   "outputs": [],
   "source": [
    "zcr_happy=[0]*200\n",
    "for i in range(200):\n",
    "    zcr_happy[i] = zcr(data_happy[i])"
   ]
  },
  {
   "cell_type": "code",
   "execution_count": 38,
   "id": "dfadeba6",
   "metadata": {},
   "outputs": [],
   "source": [
    "zcr_sad=[0]*200\n",
    "for i in range(200):\n",
    "    zcr_sad[i] = zcr(data_sad[i])"
   ]
  },
  {
   "cell_type": "code",
   "execution_count": 39,
   "id": "e59bb66c",
   "metadata": {},
   "outputs": [],
   "source": [
    "zcr_fear=[0]*200\n",
    "for i in range(200):\n",
    "    zcr_fear[i] = zcr(data_fear[i])"
   ]
  },
  {
   "cell_type": "code",
   "execution_count": 40,
   "id": "653581ff",
   "metadata": {},
   "outputs": [],
   "source": [
    "zcr_disgust=[0]*200\n",
    "for i in range(200):\n",
    "    zcr_disgust[i] = zcr(data_disgust[i])"
   ]
  },
  {
   "cell_type": "code",
   "execution_count": 41,
   "id": "880e4a2d",
   "metadata": {},
   "outputs": [],
   "source": [
    "zcr_surprised=[0]*200\n",
    "for i in range(200):\n",
    "    zcr_surprised[i] = zcr(data_surprised[i])"
   ]
  },
  {
   "cell_type": "markdown",
   "id": "58bfee28",
   "metadata": {},
   "source": [
    "## 5-Rolloff"
   ]
  },
  {
   "cell_type": "code",
   "execution_count": 42,
   "id": "bb042a22",
   "metadata": {},
   "outputs": [],
   "source": [
    "def rolloff(x):\n",
    "    rolloff = librosa.feature.spectral_rolloff(x)\n",
    "    s = np.around(rolloff.mean(),6)\n",
    "    return s"
   ]
  },
  {
   "cell_type": "code",
   "execution_count": 43,
   "id": "e0e70bf3",
   "metadata": {},
   "outputs": [],
   "source": [
    "rolloff_angry=[0]*200\n",
    "for i in range(200):\n",
    "    rolloff_angry[i] = rolloff(data_angry[i])"
   ]
  },
  {
   "cell_type": "code",
   "execution_count": 44,
   "id": "2f6ea4ca",
   "metadata": {},
   "outputs": [],
   "source": [
    "rolloff_happy=[0]*200\n",
    "for i in range(200):\n",
    "    rolloff_happy[i] = rolloff(data_happy[i])"
   ]
  },
  {
   "cell_type": "code",
   "execution_count": 45,
   "id": "96bdd668",
   "metadata": {},
   "outputs": [],
   "source": [
    "rolloff_sad=[0]*200\n",
    "for i in range(200):\n",
    "    rolloff_sad[i] = rolloff(data_sad[i])"
   ]
  },
  {
   "cell_type": "code",
   "execution_count": 46,
   "id": "f3dcd4f9",
   "metadata": {},
   "outputs": [],
   "source": [
    "rolloff_fear=[0]*200\n",
    "for i in range(200):\n",
    "    rolloff_fear[i] = rolloff(data_fear[i])"
   ]
  },
  {
   "cell_type": "code",
   "execution_count": 47,
   "id": "c362c0dd",
   "metadata": {},
   "outputs": [],
   "source": [
    "rolloff_disgust=[0]*200\n",
    "for i in range(200):\n",
    "    rolloff_disgust[i] = rolloff(data_disgust[i])"
   ]
  },
  {
   "cell_type": "code",
   "execution_count": 48,
   "id": "5c12f9f6",
   "metadata": {},
   "outputs": [],
   "source": [
    "rolloff_surprised=[0]*200\n",
    "for i in range(200):\n",
    "    rolloff_surprised[i] = rolloff(data_surprised[i])"
   ]
  },
  {
   "cell_type": "markdown",
   "id": "926c2004",
   "metadata": {
    "collapsed": true
   },
   "source": [
    "## 6-RMS"
   ]
  },
  {
   "cell_type": "code",
   "execution_count": 49,
   "id": "815b6100",
   "metadata": {},
   "outputs": [],
   "source": [
    "def rms(x):\n",
    "    rms=librosa.feature.rms(y=x)\n",
    "    rms=rms.reshape(-1)\n",
    "    s=np.around(rms.mean()*1000,6)\n",
    "    return s"
   ]
  },
  {
   "cell_type": "code",
   "execution_count": 50,
   "id": "9b918464",
   "metadata": {},
   "outputs": [],
   "source": [
    "rms_angry = [0]*200\n",
    "for i in range(200):\n",
    "    rms_angry[i]=rms(data_angry[i])"
   ]
  },
  {
   "cell_type": "code",
   "execution_count": 51,
   "id": "dab07360",
   "metadata": {},
   "outputs": [],
   "source": [
    "rms_fear = [0]*200\n",
    "for i in range(200):\n",
    "    rms_fear[i]=rms(data_fear[i])"
   ]
  },
  {
   "cell_type": "code",
   "execution_count": 52,
   "id": "ad0f0ebd",
   "metadata": {},
   "outputs": [],
   "source": [
    "rms_happy = [0]*200\n",
    "for i in range(200):\n",
    "    rms_happy[i]=rms(data_happy[i])"
   ]
  },
  {
   "cell_type": "code",
   "execution_count": 53,
   "id": "76b921bb",
   "metadata": {},
   "outputs": [],
   "source": [
    "rms_sad = [0]*200\n",
    "for i in range(200):\n",
    "    rms_sad[i]=rms(data_sad[i])"
   ]
  },
  {
   "cell_type": "code",
   "execution_count": 54,
   "id": "79e4e521",
   "metadata": {},
   "outputs": [],
   "source": [
    "rms_disgust = [0]*200\n",
    "for i in range(200):\n",
    "    rms_disgust[i]=rms(data_disgust[i])"
   ]
  },
  {
   "cell_type": "code",
   "execution_count": 55,
   "id": "44b79d9f",
   "metadata": {},
   "outputs": [],
   "source": [
    "rms_surprised = [0]*200\n",
    "for i in range(200):\n",
    "    rms_surprised[i]=rms(data_surprised[i])"
   ]
  },
  {
   "cell_type": "markdown",
   "id": "478e8a38",
   "metadata": {},
   "source": [
    "# Display"
   ]
  },
  {
   "cell_type": "code",
   "execution_count": 56,
   "id": "86149f66",
   "metadata": {},
   "outputs": [],
   "source": [
    "type_angry = ['angry']*200\n",
    "type_happy = ['happy']*200\n",
    "type_sad = ['sad']*200\n",
    "type_fear = ['fear']*200\n",
    "type_disgust = ['disgust']*200\n",
    "type_surprised = ['surprised']*200\n",
    "all_mfcc1 = np.concatenate((mfcc1_angry,mfcc1_happy,mfcc1_sad,mfcc1_fear,mfcc1_disgust,mfcc1_surprised))\n",
    "\n",
    "all_mfcc2 = np.concatenate((mfcc2_angry,mfcc2_happy,mfcc2_sad,mfcc2_fear,mfcc2_disgust,mfcc2_surprised))\n",
    "\n",
    "all_mean = np.concatenate((mean_angry,mean_happy,mean_sad,mean_fear,mean_disgust,mean_surprised))\n",
    "\n",
    "all_rms = np.concatenate((rms_angry,rms_happy,rms_sad,rms_fear,rms_disgust,rms_surprised))\n",
    "\n",
    "all_beat = np.concatenate((beat_angry,beat_happy,beat_sad,beat_fear,beat_disgust,beat_surprised))\n",
    "\n",
    "all_tempo = np.concatenate((tempo_angry,tempo_happy,tempo_sad,tempo_fear,tempo_disgust,tempo_surprised))\n",
    "\n",
    "all_zcr = np.concatenate((zcr_angry,zcr_happy,zcr_sad,zcr_fear,zcr_disgust,zcr_surprised))\n",
    "\n",
    "all_rolloff = np.concatenate((rolloff_angry,rolloff_happy,rolloff_sad,rolloff_fear,rolloff_disgust,rolloff_surprised))\n",
    "\n",
    "all_centr = np.concatenate((centr_angry,centr_happy,centr_sad,centr_fear,centr_disgust,centr_surprised))\n",
    "\n",
    "all_pair = np.concatenate((pair_angry,pair_happy,pair_sad,pair_fear,pair_disgust,pair_surprised))\n",
    "\n",
    "all_impair = np.concatenate((impair_angry,impair_happy,impair_sad,impair_fear,impair_disgust,impair_surprised))\n",
    "\n",
    "all_type = np.concatenate((type_angry,type_happy,type_sad,type_fear,type_disgust,type_surprised))"
   ]
  },
  {
   "cell_type": "code",
   "execution_count": 57,
   "id": "6e714870",
   "metadata": {
    "scrolled": true
   },
   "outputs": [
    {
     "data": {
      "text/html": [
       "<div>\n",
       "<style scoped>\n",
       "    .dataframe tbody tr th:only-of-type {\n",
       "        vertical-align: middle;\n",
       "    }\n",
       "\n",
       "    .dataframe tbody tr th {\n",
       "        vertical-align: top;\n",
       "    }\n",
       "\n",
       "    .dataframe thead th {\n",
       "        text-align: right;\n",
       "    }\n",
       "</style>\n",
       "<table border=\"1\" class=\"dataframe\">\n",
       "  <thead>\n",
       "    <tr style=\"text-align: right;\">\n",
       "      <th></th>\n",
       "      <th>mfcc1</th>\n",
       "      <th>mfcc2</th>\n",
       "      <th>rms</th>\n",
       "      <th>mean</th>\n",
       "      <th>beat</th>\n",
       "      <th>tempo</th>\n",
       "      <th>centroid</th>\n",
       "      <th>zcr</th>\n",
       "      <th>rolloff</th>\n",
       "      <th>TYPE</th>\n",
       "    </tr>\n",
       "  </thead>\n",
       "  <tbody>\n",
       "    <tr>\n",
       "      <th>0</th>\n",
       "      <td>26734.926387</td>\n",
       "      <td>53078.300791</td>\n",
       "      <td>44.732809</td>\n",
       "      <td>-7.483912</td>\n",
       "      <td>41400.0</td>\n",
       "      <td>18457.031250</td>\n",
       "      <td>3536.414293</td>\n",
       "      <td>9551</td>\n",
       "      <td>5875.750455</td>\n",
       "      <td>angry</td>\n",
       "    </tr>\n",
       "    <tr>\n",
       "      <th>1</th>\n",
       "      <td>28760.761555</td>\n",
       "      <td>57267.370759</td>\n",
       "      <td>62.302683</td>\n",
       "      <td>-7.831485</td>\n",
       "      <td>18000.0</td>\n",
       "      <td>9228.515625</td>\n",
       "      <td>3006.155439</td>\n",
       "      <td>8291</td>\n",
       "      <td>5078.759766</td>\n",
       "      <td>angry</td>\n",
       "    </tr>\n",
       "    <tr>\n",
       "      <th>2</th>\n",
       "      <td>26468.860924</td>\n",
       "      <td>54801.163584</td>\n",
       "      <td>59.109714</td>\n",
       "      <td>-7.958513</td>\n",
       "      <td>13000.0</td>\n",
       "      <td>7177.734375</td>\n",
       "      <td>3958.518126</td>\n",
       "      <td>12479</td>\n",
       "      <td>6158.617067</td>\n",
       "      <td>angry</td>\n",
       "    </tr>\n",
       "    <tr>\n",
       "      <th>3</th>\n",
       "      <td>29306.447530</td>\n",
       "      <td>59361.867819</td>\n",
       "      <td>43.720558</td>\n",
       "      <td>-7.746242</td>\n",
       "      <td>15000.0</td>\n",
       "      <td>6983.741554</td>\n",
       "      <td>3550.417452</td>\n",
       "      <td>11400</td>\n",
       "      <td>5929.400572</td>\n",
       "      <td>angry</td>\n",
       "    </tr>\n",
       "    <tr>\n",
       "      <th>4</th>\n",
       "      <td>23153.675964</td>\n",
       "      <td>45159.496850</td>\n",
       "      <td>45.984142</td>\n",
       "      <td>-7.434400</td>\n",
       "      <td>21000.0</td>\n",
       "      <td>12919.921875</td>\n",
       "      <td>2775.687228</td>\n",
       "      <td>5580</td>\n",
       "      <td>4747.343816</td>\n",
       "      <td>angry</td>\n",
       "    </tr>\n",
       "  </tbody>\n",
       "</table>\n",
       "</div>"
      ],
      "text/plain": [
       "          mfcc1         mfcc2        rms      mean     beat         tempo  \\\n",
       "0  26734.926387  53078.300791  44.732809 -7.483912  41400.0  18457.031250   \n",
       "1  28760.761555  57267.370759  62.302683 -7.831485  18000.0   9228.515625   \n",
       "2  26468.860924  54801.163584  59.109714 -7.958513  13000.0   7177.734375   \n",
       "3  29306.447530  59361.867819  43.720558 -7.746242  15000.0   6983.741554   \n",
       "4  23153.675964  45159.496850  45.984142 -7.434400  21000.0  12919.921875   \n",
       "\n",
       "      centroid    zcr      rolloff   TYPE  \n",
       "0  3536.414293   9551  5875.750455  angry  \n",
       "1  3006.155439   8291  5078.759766  angry  \n",
       "2  3958.518126  12479  6158.617067  angry  \n",
       "3  3550.417452  11400  5929.400572  angry  \n",
       "4  2775.687228   5580  4747.343816  angry  "
      ]
     },
     "execution_count": 57,
     "metadata": {},
     "output_type": "execute_result"
    }
   ],
   "source": [
    "data = {\n",
    "    'mfcc1'  :all_mfcc1,\n",
    "    'mfcc2':all_mfcc2,\n",
    "    'rms':all_rms,\n",
    "    'mean':all_mean,\n",
    "    'beat':all_beat,\n",
    "    'tempo':all_tempo,\n",
    "    'centroid':all_centr,  \n",
    "    'zcr' : all_zcr,\n",
    "    'rolloff' : all_rolloff,  \n",
    "    'TYPE' : all_type\n",
    "}\n",
    "df = pd.DataFrame(data)\n",
    "df.head()"
   ]
  },
  {
   "cell_type": "markdown",
   "id": "1c6d8719",
   "metadata": {},
   "source": [
    "# Load DATA into csv file"
   ]
  },
  {
   "cell_type": "code",
   "execution_count": 59,
   "id": "ec196eb8",
   "metadata": {},
   "outputs": [],
   "source": [
    "os.chdir('\\\\')\n",
    "# absolute_path where you want to load you data.csv file\n",
    "os.chdir('absolute_path')\n",
    "df.to_csv('data.csv',index=False)"
   ]
  }
 ],
 "metadata": {
  "kernelspec": {
   "display_name": "Python 3 (ipykernel)",
   "language": "python",
   "name": "python3"
  },
  "language_info": {
   "codemirror_mode": {
    "name": "ipython",
    "version": 3
   },
   "file_extension": ".py",
   "mimetype": "text/x-python",
   "name": "python",
   "nbconvert_exporter": "python",
   "pygments_lexer": "ipython3",
   "version": "3.9.7"
  }
 },
 "nbformat": 4,
 "nbformat_minor": 5
}
